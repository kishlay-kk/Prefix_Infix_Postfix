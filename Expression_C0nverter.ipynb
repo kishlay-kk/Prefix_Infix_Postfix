{
 "cells": [
  {
   "cell_type": "code",
   "execution_count": 1,
   "metadata": {},
   "outputs": [
    {
     "name": "stdout",
     "output_type": "stream",
     "text": [
      "+1/*++3*46*6123\n",
      "1+(3+4*6+6*1)*2/3\n"
     ]
    }
   ],
   "source": [
    "from tkinter import *\n",
    "root=Tk()\n",
    "root.geometry(\"600x300\")\n",
    "root.configure(bg=\"#2F2FA2\")\n",
    "import prefix_infix_postfix"
   ]
  },
  {
   "cell_type": "code",
   "execution_count": 2,
   "metadata": {},
   "outputs": [],
   "source": [
    "eq=\"\"\n",
    "exp1=\"\"\n",
    "\n",
    "def convert():\n",
    "    global eq\n",
    "    global exp1\n",
    "    buttonpushed()\n",
    "    t1= var1.get()\n",
    "    t2= var2.get()\n",
    "    if(t1==\"infix\" and t2==\"postfix\"):\n",
    "        eq=prefix_infix_postfix.infix_to_postfix(exp1)\n",
    "        v2.set(eq)\n",
    "    elif(t1==\"postfix\" and t2==\"infix\"):\n",
    "        eq=prefix_infix_postfix.postfix_to_infix(exp1)\n",
    "        v2.set(eq)\n",
    "    elif(t1==\"prefix\" and t2==\"infix\"):\n",
    "        eq=prefix_infix_postfix.prefix_to_infix(exp1)\n",
    "        v2.set(eq)\n",
    "    elif(t1==\"infix\" and t2==\"prefix\"):\n",
    "        eq=prefix_infix_postfix.infix_to_prefix(exp1)\n",
    "        v2.set(eq)\n",
    "    else:\n",
    "        print(\"ERROR\")\n",
    "    \n",
    "def buttonpushed():\n",
    "    global txtb\n",
    "    global exp1\n",
    "    exp1= txtb.get()\n"
   ]
  },
  {
   "cell_type": "code",
   "execution_count": 3,
   "metadata": {},
   "outputs": [],
   "source": [
    "\n",
    "\n",
    "var1= StringVar(root)\n",
    "var1.set(\"infix\")\n",
    "option1 = OptionMenu(root,var1,\"prefix\",\"infix\",\"postfix\")\n",
    "option1.grid(row=0,column=0,padx=5,pady=5)\n",
    "\n",
    "txtb = Entry(root,bg=\"pink\",fg=\"#161BEE\",font=(\"Comic Sans MS\",15),width=40)\n",
    "txtb.grid(row=0,column=1,padx=5,pady=5)\n",
    "\n",
    "var2= StringVar(root)\n",
    "var2.set(\"None\")\n",
    "option2 = OptionMenu(root,var2,\"prefix\",\"infix\",\"postfix\")\n",
    "option2.grid(row=1,column=0,padx=5,pady=5)\n",
    "\n",
    "v2=StringVar()\n",
    "label2 = Label(root,textvariable=v2,width=\"40\",bg=\"pink\",fg=\"BLACK\",padx=1,pady=1,font=(\"Comic Sans MS\",15)).grid(row=1,column=1,padx=5,pady=5)\n",
    "\n",
    "b = Button(root,text=\"CONVERT\",relief=GROOVE,command=convert).place(x=50,y=90)"
   ]
  },
  {
   "cell_type": "code",
   "execution_count": 4,
   "metadata": {},
   "outputs": [],
   "source": [
    "root.mainloop()"
   ]
  },
  {
   "cell_type": "code",
   "execution_count": null,
   "metadata": {},
   "outputs": [],
   "source": []
  }
 ],
 "metadata": {
  "kernelspec": {
   "display_name": "Python 3",
   "language": "python",
   "name": "python3"
  },
  "language_info": {
   "codemirror_mode": {
    "name": "ipython",
    "version": 3
   },
   "file_extension": ".py",
   "mimetype": "text/x-python",
   "name": "python",
   "nbconvert_exporter": "python",
   "pygments_lexer": "ipython3",
   "version": "3.7.3"
  }
 },
 "nbformat": 4,
 "nbformat_minor": 2
}
